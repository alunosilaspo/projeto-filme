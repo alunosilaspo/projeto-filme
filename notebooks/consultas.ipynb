{
 "cells": [
  {
   "cell_type": "markdown",
   "metadata": {},
   "source": [
    "# Importar Biblioteca"
   ]
  },
  {
   "cell_type": "code",
   "execution_count": 1,
   "metadata": {},
   "outputs": [],
   "source": [
    "import pandas as pd\n",
    "import duckdb\n"
   ]
  },
  {
   "cell_type": "markdown",
   "metadata": {},
   "source": [
    "# Variaveis de Configuração\n",
    "\n",
    "Vamos importar o arquivo csv do kaggle"
   ]
  },
  {
   "cell_type": "code",
   "execution_count": 2,
   "metadata": {},
   "outputs": [],
   "source": [
    "nome_arquivo = '../csv/final_dataset.csv'"
   ]
  },
  {
   "cell_type": "code",
   "execution_count": 3,
   "metadata": {},
   "outputs": [
    {
     "name": "stdout",
     "output_type": "stream",
     "text": [
      "Dados importados com sucesso para o banco de dados SQLite.\n"
     ]
    }
   ],
   "source": [
    "conexao = duckdb.connect('../dados/filme_duckdb.db')\n",
    "\n",
    "# Importando o arquivo CSV e salvando na tabela\n",
    "conexao.execute(f\"\"\"\n",
    "    CREATE TABLE IF NOT EXISTS filmes_imdb AS\n",
    "    SELECT * FROM read_csv_auto('{nome_arquivo}');\n",
    "\"\"\")\n",
    "\n",
    "conexao.commit()\n",
    "\n",
    "# Fechar a conexão\n",
    "conexao.close()\n",
    "\n",
    "print(\"Dados importados com sucesso para o banco de dados SQLite.\")"
   ]
  },
  {
   "cell_type": "code",
   "execution_count": 7,
   "metadata": {},
   "outputs": [],
   "source": [
    "conexao = duckdb.connect('../dados/filme_duckdb.db')"
   ]
  },
  {
   "cell_type": "code",
   "execution_count": 5,
   "metadata": {},
   "outputs": [
    {
     "data": {
      "text/plain": [
       "<duckdb.duckdb.DuckDBPyConnection at 0x22b6319e2f0>"
      ]
     },
     "execution_count": 5,
     "metadata": {},
     "output_type": "execute_result"
    }
   ],
   "source": [
    "\n",
    "# Importando o arquivo CSV e salvando na tabela\n",
    "conexao.execute(f\"\"\"\n",
    "    CREATE TABLE IF NOT EXISTS filmes_imdb AS\n",
    "    SELECT * FROM read_csv_auto('{nome_arquivo}');\n",
    "\"\"\")\n",
    "\n",
    "conexao.commit()\n"
   ]
  },
  {
   "cell_type": "code",
   "execution_count": 9,
   "metadata": {},
   "outputs": [],
   "source": [
    "# Importando o arquivo CSV e salvando na tabela\n",
    "conexao.execute(f\"\"\"\n",
    "    SELECT * FROM filmes_imdb LIMIT 5;;\n",
    "\"\"\")\n",
    "dados = conexao.fetchall()"
   ]
  },
  {
   "cell_type": "code",
   "execution_count": 10,
   "metadata": {},
   "outputs": [
    {
     "name": "stdout",
     "output_type": "stream",
     "text": [
      "[('tt0073195', 'Jaws', 'https://www.imdb.com/title/tt0073195', 1975, '2h 4m', 'PG', 8.1, '683K', 7000000.0, 477220580.0, 266567580.0, 7061513.0, \"['Steven Spielberg']\", \"['Peter Benchley', 'Carl Gottlieb']\", \"['Roy Scheider', 'Robert Shaw', 'Richard Dreyfuss']\", \"['Monster Horror', 'Sea Adventure', 'Survival', 'Adventure', 'Drama', 'Horror', 'Thriller']\", \"['United States']\", '[\"Water Street, Edgartown, Martha\\'s Vineyard, Massachusetts, USA\"]', \"['Zanuck/Brown Productions', 'Universal Pictures']\", \"['English']\", 0, 20, 0), ('tt0073629', 'The Rocky Horror Picture Show', 'https://www.imdb.com/title/tt0073629', 1975, '1h 40m', 'R', 7.4, '173K', 1200000.0, 115798478.0, 112892319.0, None, \"['Jim Sharman']\", '[\"Richard O\\'Brien\", \\'Jim Sharman\\']', \"['Tim Curry', 'Susan Sarandon', 'Barry Bostwick']\", \"['Dark Comedy', 'Raunchy Comedy', 'Rock Musical', 'Supernatural Horror', 'Comedy', 'Horror', 'Musical']\", \"['United Kingdom', 'United States']\", \"['Oakley Court, Windsor Road, Oakley Green, Windsor, Berkshire, England, UK']\", \"['Twentieth Century Fox', 'Michael White Productions']\", \"['English']\", 0, 4, 0), ('tt0073486', \"One Flew Over the Cuckoo's Nest\", 'https://www.imdb.com/title/tt0073486', 1975, '2h 13m', 'R', 8.7, '1.1M', 3000000.0, 109115366.0, 108981275.0, None, \"['Milos Forman']\", \"['Lawrence Hauben', 'Bo Goldman', 'Ken Kesey']\", \"['Jack Nicholson', 'Louise Fletcher', 'Michael Berryman']\", \"['Medical Drama', 'Psychological Drama', 'Drama']\", \"['United States']\", \"['Oregon State Mental Hospital - 2600 Center Street NE, Salem, Oregon, USA']\", \"['Fantasy Films', 'N.V. Zvaluw']\", \"['English']\", 0, 15, 0), ('tt0072890', 'Dog Day Afternoon', 'https://www.imdb.com/title/tt0072890', 1975, '2h 5m', 'R', 8.0, '279K', 1800000.0, 50002721.0, 50000000.0, None, \"['Sidney Lumet']\", \"['Frank Pierson', 'P.F. Kluge', 'Thomas Moore']\", \"['Al Pacino', 'John Cazale', 'Penelope Allen']\", \"['Heist', 'True Crime', 'Biography', 'Crime', 'Drama', 'Thriller']\", \"['United States']\", \"['285 Prospect Park West, Brooklyn, New York City, New York, USA']\", \"['Warner Bros.', 'Artists Entertainment Complex']\", \"['English']\", 0, 20, 0), ('tt0073692', 'Shampoo', 'https://www.imdb.com/title/tt0073692', 1975, '1h 50m', 'R', 6.4, '15K', 4000000.0, 49407734.0, 49407734.0, None, \"['Hal Ashby']\", \"['Robert Towne', 'Warren Beatty']\", \"['Warren Beatty', 'Julie Christie', 'Goldie Hawn']\", \"['Satire', 'Comedy', 'Drama']\", \"['United States']\", \"['2270 Bowmont Drive, Beverly Hills, California, USA']\", \"['Persky-Bright / Vista', 'Columbia Pictures', 'Rubeeker Films']\", \"['English']\", 0, 11, 0)]\n"
     ]
    }
   ],
   "source": [
    "print(dados)"
   ]
  },
  {
   "cell_type": "code",
   "execution_count": 11,
   "metadata": {},
   "outputs": [
    {
     "name": "stdout",
     "output_type": "stream",
     "text": [
      "('tt0073195', 'Jaws', 'https://www.imdb.com/title/tt0073195', 1975, '2h 4m', 'PG', 8.1, '683K', 7000000.0, 477220580.0, 266567580.0, 7061513.0, \"['Steven Spielberg']\", \"['Peter Benchley', 'Carl Gottlieb']\", \"['Roy Scheider', 'Robert Shaw', 'Richard Dreyfuss']\", \"['Monster Horror', 'Sea Adventure', 'Survival', 'Adventure', 'Drama', 'Horror', 'Thriller']\", \"['United States']\", '[\"Water Street, Edgartown, Martha\\'s Vineyard, Massachusetts, USA\"]', \"['Zanuck/Brown Productions', 'Universal Pictures']\", \"['English']\", 0, 20, 0)\n",
      "('tt0073629', 'The Rocky Horror Picture Show', 'https://www.imdb.com/title/tt0073629', 1975, '1h 40m', 'R', 7.4, '173K', 1200000.0, 115798478.0, 112892319.0, None, \"['Jim Sharman']\", '[\"Richard O\\'Brien\", \\'Jim Sharman\\']', \"['Tim Curry', 'Susan Sarandon', 'Barry Bostwick']\", \"['Dark Comedy', 'Raunchy Comedy', 'Rock Musical', 'Supernatural Horror', 'Comedy', 'Horror', 'Musical']\", \"['United Kingdom', 'United States']\", \"['Oakley Court, Windsor Road, Oakley Green, Windsor, Berkshire, England, UK']\", \"['Twentieth Century Fox', 'Michael White Productions']\", \"['English']\", 0, 4, 0)\n",
      "('tt0073486', \"One Flew Over the Cuckoo's Nest\", 'https://www.imdb.com/title/tt0073486', 1975, '2h 13m', 'R', 8.7, '1.1M', 3000000.0, 109115366.0, 108981275.0, None, \"['Milos Forman']\", \"['Lawrence Hauben', 'Bo Goldman', 'Ken Kesey']\", \"['Jack Nicholson', 'Louise Fletcher', 'Michael Berryman']\", \"['Medical Drama', 'Psychological Drama', 'Drama']\", \"['United States']\", \"['Oregon State Mental Hospital - 2600 Center Street NE, Salem, Oregon, USA']\", \"['Fantasy Films', 'N.V. Zvaluw']\", \"['English']\", 0, 15, 0)\n",
      "('tt0072890', 'Dog Day Afternoon', 'https://www.imdb.com/title/tt0072890', 1975, '2h 5m', 'R', 8.0, '279K', 1800000.0, 50002721.0, 50000000.0, None, \"['Sidney Lumet']\", \"['Frank Pierson', 'P.F. Kluge', 'Thomas Moore']\", \"['Al Pacino', 'John Cazale', 'Penelope Allen']\", \"['Heist', 'True Crime', 'Biography', 'Crime', 'Drama', 'Thriller']\", \"['United States']\", \"['285 Prospect Park West, Brooklyn, New York City, New York, USA']\", \"['Warner Bros.', 'Artists Entertainment Complex']\", \"['English']\", 0, 20, 0)\n",
      "('tt0073692', 'Shampoo', 'https://www.imdb.com/title/tt0073692', 1975, '1h 50m', 'R', 6.4, '15K', 4000000.0, 49407734.0, 49407734.0, None, \"['Hal Ashby']\", \"['Robert Towne', 'Warren Beatty']\", \"['Warren Beatty', 'Julie Christie', 'Goldie Hawn']\", \"['Satire', 'Comedy', 'Drama']\", \"['United States']\", \"['2270 Bowmont Drive, Beverly Hills, California, USA']\", \"['Persky-Bright / Vista', 'Columbia Pictures', 'Rubeeker Films']\", \"['English']\", 0, 11, 0)\n"
     ]
    }
   ],
   "source": [
    "for dado in dados:\n",
    "    print(dado)"
   ]
  },
  {
   "cell_type": "code",
   "execution_count": 6,
   "metadata": {},
   "outputs": [
    {
     "name": "stdout",
     "output_type": "stream",
     "text": [
      "Dados importados com sucesso para o banco de dados SQLite.\n"
     ]
    }
   ],
   "source": [
    "# Fechar a conexão\n",
    "conexao.close()\n",
    "\n",
    "print(\"Dados importados com sucesso para o banco de dados SQLite.\")"
   ]
  }
 ],
 "metadata": {
  "kernelspec": {
   "display_name": "venv",
   "language": "python",
   "name": "python3"
  },
  "language_info": {
   "codemirror_mode": {
    "name": "ipython",
    "version": 3
   },
   "file_extension": ".py",
   "mimetype": "text/x-python",
   "name": "python",
   "nbconvert_exporter": "python",
   "pygments_lexer": "ipython3",
   "version": "3.11.6"
  }
 },
 "nbformat": 4,
 "nbformat_minor": 2
}
